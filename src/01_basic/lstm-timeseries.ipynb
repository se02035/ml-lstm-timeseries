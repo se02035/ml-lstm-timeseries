{
 "cells": [
  {
   "cell_type": "code",
   "execution_count": 1,
   "metadata": {
    "collapsed": true
   },
   "outputs": [],
   "source": [
    "import math\n",
    "from matplotlib import pyplot as plt\n",
    "import numpy as np\n",
    "import os\n",
    "import pandas as pd\n",
    "import time\n",
    "import datetime\n",
    "\n",
    "%matplotlib inline"
   ]
  },
  {
   "cell_type": "code",
   "execution_count": 6,
   "metadata": {
    "collapsed": true
   },
   "outputs": [],
   "source": [
    "def generate_data(fct, x_start, x_end, num_of_samples, noise=0.0):\n",
    "    \"\"\"\n",
    "    generate sequences to feed to rnn for fct(x)\n",
    "    \"\"\"\n",
    "    x = np.linspace(x_start, x_end, num_of_samples, dtype=np.float32)\n",
    "    \n",
    "    rand_arr = np.random.uniform(1-NOISE, 1+NOISE, size=len(x))\n",
    "    data = fct(x) * rand_arr\n",
    "    return x, data"
   ]
  },
  {
   "cell_type": "code",
   "execution_count": 7,
   "metadata": {
    "collapsed": true
   },
   "outputs": [],
   "source": [
    "def generate_timeseries(data):\n",
    "    \"\"\"\n",
    "    associate a timestamp to a series of data\n",
    "    \"\"\"\n",
    "    base_timestamp = datetime.datetime.now()\n",
    "\n",
    "    df = pd.DataFrame(\n",
    "        {'value': data}, \n",
    "            index = pd.date_range(base_timestamp-datetime.timedelta(1), periods=len(Y), freq='S'),\n",
    "            columns=['value'])\n",
    "\n",
    "    df.index.name = 'timestamp'   \n",
    "    return df"
   ]
  },
  {
   "cell_type": "code",
   "execution_count": 8,
   "metadata": {},
   "outputs": [],
   "source": [
    "NUM_SAMPLES = 5400\n",
    "NOISE = 0.4\n",
    "\n",
    "fx = lambda x: 100 * np.power(math.e, -x/25)\n",
    "fx1 = lambda x: np.sin(0.4*x)+1\n",
    "fx2 = lambda x: 10*x -3*np.power(x,3)+1/2*np.power(x,5)*np.sin(0.4*x)-np.tanh(np.power(math.e, -x/2))+100\n",
    "\n",
    "X, Y = generate_data(fx1, 0, 100, NUM_SAMPLES, NOISE)\n",
    "sample_workrate = np.vstack((X, Y)).T"
   ]
  },
  {
   "cell_type": "code",
   "execution_count": 9,
   "metadata": {},
   "outputs": [
    {
     "data": {
      "text/plain": [
       "[<matplotlib.lines.Line2D at 0x216edbe9748>]"
      ]
     },
     "execution_count": 9,
     "metadata": {},
     "output_type": "execute_result"
    },
    {
     "data": {
      "image/png": "[encoded data removed]",
      "text/plain": [
       "<matplotlib.figure.Figure at 0x216ed93fb38>"
      ]
     },
     "metadata": {},
     "output_type": "display_data"
    }
   ],
   "source": [
    "plt.plot(sample_workrate[:,1])"
   ]
  },
  {
   "cell_type": "code",
   "execution_count": 11,
   "metadata": {
    "collapsed": true
   },
   "outputs": [],
   "source": [
    "df = generate_timeseries(Y)\n",
    "df.to_csv('sampledata_data_values.csv')"
   ]
  }
 ],
 "metadata": {
  "kernelspec": {
   "display_name": "Python [default]",
   "language": "python",
   "name": "python3"
  },
  "language_info": {
   "codemirror_mode": {
    "name": "ipython",
    "version": 3
   },
   "file_extension": ".py",
   "mimetype": "text/x-python",
   "name": "python",
   "nbconvert_exporter": "python",
   "pygments_lexer": "ipython3",
   "version": "3.6.3"
  }
 },
 "nbformat": 4,
 "nbformat_minor": 2
}
